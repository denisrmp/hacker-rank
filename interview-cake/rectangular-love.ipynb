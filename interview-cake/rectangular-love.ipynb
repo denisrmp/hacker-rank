{
 "cells": [
  {
   "cell_type": "code",
   "execution_count": 16,
   "metadata": {
    "collapsed": true
   },
   "outputs": [],
   "source": [
    "def get_line_intersect(x1, x2):\n",
    "    if x1[0] > x2[0]: \n",
    "        x1, x2 = x2, x1 # make sure x1 is the leftmost line\n",
    "    \n",
    "    if x1[1] < x2[0]:\n",
    "        return 0 # there is no intersection\n",
    "    \n",
    "    return min(x1[1], x2[1]) - x2[0] # in case one list is fully contained in the other, \n",
    "                                     # x2[1] will be smaller than x1[1] and will define the intersect length\n",
    "\n",
    "def get_area_of_love(rect1, rect2):\n",
    "    x = get_line_intersect((rect1['x'], rect1['x']+rect1['width']), (rect2['x'], rect2['x']+rect2['width']))\n",
    "    y = get_line_intersect((rect1['y'], rect1['y']+rect1['height']), (rect2['y'], rect2['y']+rect2['height']))\n",
    "    return x * y"
   ]
  },
  {
   "cell_type": "code",
   "execution_count": 21,
   "metadata": {
    "collapsed": true
   },
   "outputs": [],
   "source": [
    "rect1 = {'x': 1, 'y': 5, 'width': 10, 'height': 4}\n",
    "rect2 = {'x': 20, 'y': 20, 'width': 10, 'height': 10}\n",
    "rect3 = {'x': 22, 'y': 24, 'width': 4, 'height': 4}"
   ]
  },
  {
   "cell_type": "code",
   "execution_count": 22,
   "metadata": {
    "collapsed": false
   },
   "outputs": [
    {
     "data": {
      "text/plain": [
       "40"
      ]
     },
     "execution_count": 22,
     "metadata": {},
     "output_type": "execute_result"
    }
   ],
   "source": [
    "get_area_of_love(rect1, rect1)"
   ]
  },
  {
   "cell_type": "code",
   "execution_count": 23,
   "metadata": {
    "collapsed": false
   },
   "outputs": [
    {
     "data": {
      "text/plain": [
       "0"
      ]
     },
     "execution_count": 23,
     "metadata": {},
     "output_type": "execute_result"
    }
   ],
   "source": [
    "get_area_of_love(rect1, rect2)"
   ]
  },
  {
   "cell_type": "code",
   "execution_count": 24,
   "metadata": {
    "collapsed": false
   },
   "outputs": [
    {
     "data": {
      "text/plain": [
       "16"
      ]
     },
     "execution_count": 24,
     "metadata": {},
     "output_type": "execute_result"
    }
   ],
   "source": [
    "get_area_of_love(rect2, rect3)"
   ]
  }
 ],
 "metadata": {
  "kernelspec": {
   "display_name": "Python 2",
   "language": "python",
   "name": "python2"
  },
  "language_info": {
   "codemirror_mode": {
    "name": "ipython",
    "version": 2
   },
   "file_extension": ".py",
   "mimetype": "text/x-python",
   "name": "python",
   "nbconvert_exporter": "python",
   "pygments_lexer": "ipython2",
   "version": "2.7.10"
  }
 },
 "nbformat": 4,
 "nbformat_minor": 0
}
