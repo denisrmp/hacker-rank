{
 "cells": [
  {
   "cell_type": "code",
   "execution_count": 1,
   "metadata": {
    "collapsed": true
   },
   "outputs": [],
   "source": [
    "class BinaryTreeNode:\n",
    "\n",
    "    def __init__(self, value):\n",
    "        self.value = value\n",
    "        self.left  = None\n",
    "        self.right = None\n",
    "\n",
    "    def insert_left(self, value):\n",
    "        self.left = BinaryTreeNode(value)\n",
    "        return self.left\n",
    "\n",
    "    def insert_right(self, value):\n",
    "        self.right = BinaryTreeNode(value)\n",
    "        return self.right"
   ]
  },
  {
   "cell_type": "code",
   "execution_count": 29,
   "metadata": {
    "collapsed": true
   },
   "outputs": [],
   "source": [
    "def check_bst(tree, minv = None, maxv = None):\n",
    "    if tree is None:\n",
    "        return True\n",
    "    \n",
    "    # initialize minmax\n",
    "    if minv is None or maxv is None:\n",
    "        minv, maxv = float('-inf'), float('inf')\n",
    "    \n",
    "    print 'node %s, minv %s, maxv %s' % (tree.value, minv, maxv)\n",
    "    if node_is_valid(tree, minv, maxv):        \n",
    "        return check_bst(tree.left, minv, tree.value) and check_bst(tree.right, tree.value, maxv)\n",
    "    else:\n",
    "        return False\n",
    "\n",
    "\n",
    "def node_is_valid(tree, minv, maxv):\n",
    "    right_valid = tree.right is None or (maxv >= tree.right.value >= tree.value)\n",
    "    left_valid = tree.left is None or (minv <= tree.left.value <= tree.value)\n",
    "    print 'right? %s, left? %s, node %s, min %s, max %s' % (right_valid, left_valid, tree.value, minv, maxv)\n",
    "    return right_valid and left_valid"
   ]
  },
  {
   "cell_type": "code",
   "execution_count": 30,
   "metadata": {
    "collapsed": false
   },
   "outputs": [
    {
     "name": "stdout",
     "output_type": "stream",
     "text": [
      "node 100, minv -inf, maxv inf\n",
      "right? True, left? True, node 100, min -inf, max inf\n"
     ]
    },
    {
     "data": {
      "text/plain": [
       "True"
      ]
     },
     "execution_count": 30,
     "metadata": {},
     "output_type": "execute_result"
    }
   ],
   "source": [
    "tree = BinaryTreeNode(100)\n",
    "check_bst(tree)"
   ]
  },
  {
   "cell_type": "code",
   "execution_count": 31,
   "metadata": {
    "collapsed": false
   },
   "outputs": [
    {
     "name": "stdout",
     "output_type": "stream",
     "text": [
      "node 100, minv -inf, maxv inf\n",
      "right? True, left? True, node 100, min -inf, max inf\n",
      "node 80, minv -inf, maxv 100\n",
      "right? True, left? True, node 80, min -inf, max 100\n"
     ]
    },
    {
     "data": {
      "text/plain": [
       "True"
      ]
     },
     "execution_count": 31,
     "metadata": {},
     "output_type": "execute_result"
    }
   ],
   "source": [
    "tree.left = BinaryTreeNode(80)\n",
    "check_bst(tree)"
   ]
  },
  {
   "cell_type": "code",
   "execution_count": 32,
   "metadata": {
    "collapsed": false
   },
   "outputs": [
    {
     "name": "stdout",
     "output_type": "stream",
     "text": [
      "node 100, minv -inf, maxv inf\n",
      "right? True, left? True, node 100, min -inf, max inf\n",
      "node 80, minv -inf, maxv 100\n",
      "right? True, left? True, node 80, min -inf, max 100\n",
      "node 105, minv 100, maxv inf\n",
      "right? True, left? True, node 105, min 100, max inf\n"
     ]
    },
    {
     "data": {
      "text/plain": [
       "True"
      ]
     },
     "execution_count": 32,
     "metadata": {},
     "output_type": "execute_result"
    }
   ],
   "source": [
    "tree.right = BinaryTreeNode(105)\n",
    "check_bst(tree)"
   ]
  },
  {
   "cell_type": "code",
   "execution_count": 34,
   "metadata": {
    "collapsed": false
   },
   "outputs": [
    {
     "name": "stdout",
     "output_type": "stream",
     "text": [
      "node 100, minv -inf, maxv inf\n",
      "right? True, left? True, node 100, min -inf, max inf\n",
      "node 80, minv -inf, maxv 100\n",
      "right? True, left? True, node 80, min -inf, max 100\n",
      "node 70, minv -inf, maxv 80\n",
      "right? True, left? True, node 70, min -inf, max 80\n",
      "node 105, minv 100, maxv inf\n",
      "right? True, left? True, node 105, min 100, max inf\n",
      "node 101, minv 100, maxv 105\n",
      "right? True, left? True, node 101, min 100, max 105\n",
      "node 190, minv 105, maxv inf\n",
      "right? True, left? True, node 190, min 105, max inf\n"
     ]
    },
    {
     "data": {
      "text/plain": [
       "True"
      ]
     },
     "execution_count": 34,
     "metadata": {},
     "output_type": "execute_result"
    }
   ],
   "source": [
    "tree.right.left = BinaryTreeNode(101)\n",
    "tree.right.right = BinaryTreeNode(190)\n",
    "tree.left.left = BinaryTreeNode(70)\n",
    "check_bst(tree)"
   ]
  },
  {
   "cell_type": "code",
   "execution_count": 35,
   "metadata": {
    "collapsed": false
   },
   "outputs": [
    {
     "name": "stdout",
     "output_type": "stream",
     "text": [
      "node 100, minv -inf, maxv inf\n",
      "right? True, left? True, node 100, min -inf, max inf\n",
      "node 80, minv -inf, maxv 100\n",
      "right? False, left? True, node 80, min -inf, max 100\n"
     ]
    },
    {
     "data": {
      "text/plain": [
       "False"
      ]
     },
     "execution_count": 35,
     "metadata": {},
     "output_type": "execute_result"
    }
   ],
   "source": [
    "tree.left.right = BinaryTreeNode(120)\n",
    "check_bst(tree)"
   ]
  },
  {
   "cell_type": "code",
   "execution_count": 36,
   "metadata": {
    "collapsed": false
   },
   "outputs": [
    {
     "name": "stdout",
     "output_type": "stream",
     "text": [
      "node 100, minv -inf, maxv inf\n",
      "right? True, left? True, node 100, min -inf, max inf\n",
      "node 80, minv -inf, maxv 100\n",
      "right? True, left? True, node 80, min -inf, max 100\n",
      "node 70, minv -inf, maxv 80\n",
      "right? True, left? True, node 70, min -inf, max 80\n",
      "node 105, minv 100, maxv inf\n",
      "right? True, left? False, node 105, min 100, max inf\n"
     ]
    },
    {
     "data": {
      "text/plain": [
       "False"
      ]
     },
     "execution_count": 36,
     "metadata": {},
     "output_type": "execute_result"
    }
   ],
   "source": [
    "tree.left.right = None\n",
    "tree.right.left = BinaryTreeNode(99)\n",
    "check_bst(tree)"
   ]
  },
  {
   "cell_type": "code",
   "execution_count": null,
   "metadata": {
    "collapsed": true
   },
   "outputs": [],
   "source": []
  }
 ],
 "metadata": {
  "kernelspec": {
   "display_name": "Python 2",
   "language": "python",
   "name": "python2"
  },
  "language_info": {
   "codemirror_mode": {
    "name": "ipython",
    "version": 2
   },
   "file_extension": ".py",
   "mimetype": "text/x-python",
   "name": "python",
   "nbconvert_exporter": "python",
   "pygments_lexer": "ipython2",
   "version": "2.7.10"
  }
 },
 "nbformat": 4,
 "nbformat_minor": 0
}
