{
 "cells": [
  {
   "cell_type": "markdown",
   "metadata": {},
   "source": [
    "# [You decide to test if your oddly-mathematical heating company is fulfilling its All-Time Max, Min, Mean and Mode Temperature Guarantee™.](https://www.interviewcake.com/question/python/temperature-tracker)"
   ]
  },
  {
   "cell_type": "code",
   "execution_count": 24,
   "metadata": {
    "collapsed": false
   },
   "outputs": [],
   "source": [
    "import operator\n",
    "\n",
    "class TempTracker:\n",
    "    \n",
    "    def __init__(self):\n",
    "        self.min = None\n",
    "        self.max = None\n",
    "        self.mean = None\n",
    "        \n",
    "        self.mode = None\n",
    "        self.mode_qnt = 0\n",
    "        \n",
    "        self.sum = 0.0\n",
    "        self.qnt = 0\n",
    "        \n",
    "        self.dict = {}\n",
    "        \n",
    "    \n",
    "    def insert(self, temperature):\n",
    "        # set min temperature\n",
    "        if self.min is None or self.min > temperature:\n",
    "            self.min = temperature\n",
    "        \n",
    "        # set max temperature\n",
    "        if self.max is None or self.max < temperature:\n",
    "            self.max = temperature\n",
    "        \n",
    "        # set mean temperature\n",
    "        self.qnt += 1\n",
    "        self.sum += temperature\n",
    "        self.mean = self.sum / self.qnt\n",
    "        \n",
    "        # set mode temperature\n",
    "        if temperature in self.dict.keys():\n",
    "            self.dict[temperature] += 1\n",
    "        else:\n",
    "            self.dict[temperature] = 1\n",
    "        \n",
    "        if self.mode_qnt < self.dict[temperature]:\n",
    "            self.mode = temperature\n",
    "        \n",
    "    \n",
    "    def get_max(self):\n",
    "        return self.max\n",
    "    \n",
    "    \n",
    "    def get_min(self):\n",
    "        return self.min\n",
    "    \n",
    "    \n",
    "    def get_mean(self):\n",
    "        return self.mean\n",
    "    \n",
    "    \n",
    "    def get_mode(self):\n",
    "        return self.mode\n",
    "    \n"
   ]
  },
  {
   "cell_type": "code",
   "execution_count": 25,
   "metadata": {
    "collapsed": true
   },
   "outputs": [],
   "source": [
    "tracker = TempTracker()"
   ]
  },
  {
   "cell_type": "code",
   "execution_count": 26,
   "metadata": {
    "collapsed": false
   },
   "outputs": [],
   "source": [
    "tracker.insert(1)\n",
    "tracker.insert(2)\n",
    "tracker.insert(1)\n",
    "tracker.insert(3)"
   ]
  },
  {
   "cell_type": "code",
   "execution_count": 27,
   "metadata": {
    "collapsed": false
   },
   "outputs": [
    {
     "data": {
      "text/plain": [
       "1"
      ]
     },
     "execution_count": 27,
     "metadata": {},
     "output_type": "execute_result"
    }
   ],
   "source": [
    "tracker.get_min()"
   ]
  },
  {
   "cell_type": "code",
   "execution_count": 28,
   "metadata": {
    "collapsed": false
   },
   "outputs": [
    {
     "data": {
      "text/plain": [
       "3"
      ]
     },
     "execution_count": 28,
     "metadata": {},
     "output_type": "execute_result"
    }
   ],
   "source": [
    "tracker.get_max()"
   ]
  },
  {
   "cell_type": "code",
   "execution_count": 29,
   "metadata": {
    "collapsed": false
   },
   "outputs": [
    {
     "data": {
      "text/plain": [
       "3"
      ]
     },
     "execution_count": 29,
     "metadata": {},
     "output_type": "execute_result"
    }
   ],
   "source": [
    "tracker.get_mode()"
   ]
  },
  {
   "cell_type": "code",
   "execution_count": 30,
   "metadata": {
    "collapsed": false
   },
   "outputs": [
    {
     "data": {
      "text/plain": [
       "1.75"
      ]
     },
     "execution_count": 30,
     "metadata": {},
     "output_type": "execute_result"
    }
   ],
   "source": [
    "tracker.get_mean()"
   ]
  }
 ],
 "metadata": {
  "kernelspec": {
   "display_name": "Python 2",
   "language": "python",
   "name": "python2"
  },
  "language_info": {
   "codemirror_mode": {
    "name": "ipython",
    "version": 2
   },
   "file_extension": ".py",
   "mimetype": "text/x-python",
   "name": "python",
   "nbconvert_exporter": "python",
   "pygments_lexer": "ipython2",
   "version": "2.7.10"
  }
 },
 "nbformat": 4,
 "nbformat_minor": 0
}
